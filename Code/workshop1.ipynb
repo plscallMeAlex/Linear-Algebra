{
 "cells": [
  {
   "cell_type": "code",
   "execution_count": null,
   "metadata": {},
   "outputs": [],
   "source": [
    "import matplotlib.colors as mc\n",
    "import matplotlib.pyplot as plt\n",
    "\n",
    "red = mc.to_rgb([1, 0, 0])\n",
    "green = mc.to_rgb([0, 1, 0])\n",
    "blue = mc.to_rgb([0, 0, 1])\n",
    "\n",
    "plt.plot(2, 4, \"o\")\n",
    "plt.plot(2, 4, \"s\")\n",
    "plt.plot(2, 4, \"ro\")\n",
    "plt.plot(2, 4, \"o\", color=\"r\", markersize=50)\n",
    "plt.plot(2, 4, \"o\", color=blue, markersize=50)"
   ]
  },
  {
   "cell_type": "code",
   "execution_count": null,
   "metadata": {},
   "outputs": [],
   "source": [
    "def color_mix(c1, c2):\n",
    "    return [(c1[i] + c2[i]) / 2 for i in range(3)]\n",
    "\n",
    "mycolor = color_mix(green, red)\n",
    "plt.plot(2, 4, \"o\", color=mycolor, markersize=50)"
   ]
  },
  {
   "cell_type": "code",
   "execution_count": null,
   "metadata": {},
   "outputs": [],
   "source": [
    "def color_mix2(c1, c2):\n",
    "    t1 = np.array(c1)\n",
    "    t2 = np.array(c2)\n",
    "    return mc.to_rgb(0.5*t1 + 0.5*t2)\n",
    "\n",
    "mycolor = color_mix2(red, green)\n",
    "plt.plot(2, 4, \"o\", color=mycolor, markersize=50)"
   ]
  }
 ],
 "metadata": {
  "kernelspec": {
   "display_name": "Python 3",
   "language": "python",
   "name": "python3"
  },
  "language_info": {
   "codemirror_mode": {
    "name": "ipython",
    "version": 3
   },
   "file_extension": ".py",
   "mimetype": "text/x-python",
   "name": "python",
   "nbconvert_exporter": "python",
   "pygments_lexer": "ipython3",
   "version": "3.11.4"
  }
 },
 "nbformat": 4,
 "nbformat_minor": 2
}
